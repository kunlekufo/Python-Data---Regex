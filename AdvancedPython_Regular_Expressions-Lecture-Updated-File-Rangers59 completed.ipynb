{
 "cells": [
  {
   "cell_type": "markdown",
   "metadata": {},
   "source": [
    "# Regular Expressions"
   ]
  },
  {
   "cell_type": "markdown",
   "metadata": {},
   "source": [
    "# Tasks today:\n",
    "1) <b>Importing</b> <br>\n",
    "2) <b>Using Regular Expressions</b> <br>\n",
    " &nbsp;&nbsp;&nbsp;&nbsp; a) re.compile() <br>\n",
    " &nbsp;&nbsp;&nbsp;&nbsp; b) re.match() <br>\n",
    " &nbsp;&nbsp;&nbsp;&nbsp; c) re.findall() <br>\n",
    " &nbsp;&nbsp;&nbsp;&nbsp; d) re.search() <br>\n",
    "3) <b>Sets</b> <br>\n",
    " &nbsp;&nbsp;&nbsp;&nbsp; a) Integer Ranges <br>\n",
    " &nbsp;&nbsp;&nbsp;&nbsp; b) Character Ranges <br>\n",
    "4) <b>Counting Occurences</b> <br>\n",
    " &nbsp;&nbsp;&nbsp;&nbsp; a) {x} <br>\n",
    " &nbsp;&nbsp;&nbsp;&nbsp; b) {, x} <br>\n",
    " &nbsp;&nbsp;&nbsp;&nbsp; c) {?} <br>\n",
    " &nbsp;&nbsp;&nbsp;&nbsp; d) {*} <br>\n",
    " &nbsp;&nbsp;&nbsp;&nbsp; e) {+} <br>\n",
    "5) <b>In-Class Exercise #1</b> <br>\n",
    "6) <b>Escaping Characters</b> <br>\n",
    "7) <b>Grouping</b> <br>\n",
    "8) <b>In-Class Exercise #2</b> <br>\n",
    "9) <b>Opening a File</b> <br>\n",
    " &nbsp;&nbsp;&nbsp;&nbsp; a) open() <br>\n",
    " &nbsp;&nbsp;&nbsp;&nbsp; b) with open() <br>\n",
    " &nbsp;&nbsp;&nbsp;&nbsp; c) re.match() <br>\n",
    " &nbsp;&nbsp;&nbsp;&nbsp; d) re.search() <br>\n",
    " &nbsp;&nbsp;&nbsp;&nbsp; e) Store the String in a Variable <br>\n",
    "10) <b>Regex Project</b> <br>"
   ]
  },
  {
   "cell_type": "markdown",
   "metadata": {},
   "source": [
    "### Importing <br>\n",
    "<p>Regular Expressions are universal throughout most programming languages... They are generally imported through the module 're'.</p>"
   ]
  },
  {
   "cell_type": "code",
   "execution_count": 3,
   "metadata": {},
   "outputs": [
    {
     "name": "stdout",
     "output_type": "stream",
     "text": [
      "[]\n",
      "Hello, my name is Ola. Ola is a nigerian name.\n"
     ]
    }
   ],
   "source": [
    "# import re\n",
    "import re\n",
    "\n",
    "text = \"Hello, my name is Ola. Ola is a nigerian name.\"\n",
    "pattern = r'ola'\n",
    "\n",
    "# Find all occurrences of 'ola' in the text\n",
    "matches = re.findall(pattern, text)\n",
    "\n",
    "# Replace 'Ola' with 'Kufo'\n",
    "new_text = re.sub(pattern, 'kufo', text)\n",
    "\n",
    "print(matches)  \n",
    "print(new_text)  \n"
   ]
  },
  {
   "cell_type": "markdown",
   "metadata": {},
   "source": [
    "### Using Regular Expressions <br>\n",
    "<p>Regular expressions give us the ability to search for patterns within text, strings, files, etc. They serve several uses, such as; security measures, searching, filtering, pattern recognition, and more...</p>"
   ]
  },
  {
   "cell_type": "markdown",
   "metadata": {},
   "source": [
    "##### re.compile()"
   ]
  },
  {
   "cell_type": "code",
   "execution_count": 4,
   "metadata": {},
   "outputs": [
    {
     "name": "stdout",
     "output_type": "stream",
     "text": [
      "Pattern found: pattern_to_search\n"
     ]
    }
   ],
   "source": [
    "# using compile, pre determines the string to be used in regular expression methods\n",
    "pattern = re.compile(r'pattern_to_search')\n",
    "text = \"This is a sample text with a pattern_to_search within it.\"\n",
    "result = pattern.search(text)\n",
    "if result:\n",
    "    print(\"Pattern found:\", result.group())\n",
    "\n"
   ]
  },
  {
   "cell_type": "markdown",
   "metadata": {},
   "source": [
    "##### re.match()"
   ]
  },
  {
   "cell_type": "code",
   "execution_count": 5,
   "metadata": {},
   "outputs": [
    {
     "name": "stdout",
     "output_type": "stream",
     "text": [
      "No match found.\n"
     ]
    }
   ],
   "source": [
    "# Accessing the span of the match\n",
    "import re\n",
    "\n",
    "pattern = r\"regular_expression_pattern\"\n",
    "string = \"text_to_search\"\n",
    "\n",
    "match = re.match(pattern, string)\n",
    "\n",
    "if match:\n",
    "    print(\"Match found!\")\n",
    "    print(\"Matched text:\", match.group())\n",
    "else:\n",
    "    print(\"No match found.\")\n",
    "\n"
   ]
  },
  {
   "cell_type": "markdown",
   "metadata": {},
   "source": [
    "##### re.findall()"
   ]
  },
  {
   "cell_type": "code",
   "execution_count": 6,
   "metadata": {},
   "outputs": [
    {
     "name": "stdout",
     "output_type": "stream",
     "text": [
      "['kunlekufo@gmail.com', 'supoaj@yahoo.com.']\n"
     ]
    }
   ],
   "source": [
    "import re\n",
    "\n",
    "text = \"My email addresses are kunlekufo@gmail.com and supoaj@yahoo.com.\"\n",
    "\n",
    "email_pattern = r'\\S+@\\S+'  \n",
    "email_addresses = re.findall(email_pattern, text)\n",
    "\n",
    "print(email_addresses)\n"
   ]
  },
  {
   "cell_type": "markdown",
   "metadata": {},
   "source": [
    "##### re.search()"
   ]
  },
  {
   "cell_type": "code",
   "execution_count": 8,
   "metadata": {},
   "outputs": [
    {
     "name": "stdout",
     "output_type": "stream",
     "text": [
      "Pattern not found\n"
     ]
    }
   ],
   "source": [
    "import re\n",
    "\n",
    "# The pattern you want to search for\n",
    "pattern = r\"pattern\"\n",
    "\n",
    "# The text in which you want to search for the pattern\n",
    "text = \"This is selfpaced Coding Temple program.\"\n",
    "\n",
    "# Use re.search() to find the pattern in the text\n",
    "match = re.search(pattern, text)\n",
    "\n",
    "if match:\n",
    "    print(\"Pattern found:\", match.group())\n",
    "else:\n",
    "    print(\"Pattern not found\")\n"
   ]
  },
  {
   "cell_type": "markdown",
   "metadata": {},
   "source": [
    "### Sets <br>\n",
    "<p>The following cells will allow you to use regular expressions to search for certain values within a range such as numbers 1 through 4.</p>"
   ]
  },
  {
   "cell_type": "markdown",
   "metadata": {},
   "source": [
    "##### [a-z] or [A-Z] - any lowercase/uppercase letters from a to z<br/>[^2] - anything that's not 2"
   ]
  },
  {
   "cell_type": "markdown",
   "metadata": {},
   "source": [
    "##### Integer Ranges"
   ]
  },
  {
   "cell_type": "code",
   "execution_count": 9,
   "metadata": {},
   "outputs": [
    {
     "name": "stdout",
     "output_type": "stream",
     "text": [
      "['1', '2', '3', '4']\n"
     ]
    }
   ],
   "source": [
    "import re\n",
    "\n",
    "text = \"The numbers 1, 2, 3, and 4 are in the range we're looking for.\"\n",
    "\n",
    "pattern = r'[1-4]'\n",
    "matches = re.findall(pattern, text)\n",
    "\n",
    "print(matches)\n"
   ]
  },
  {
   "cell_type": "markdown",
   "metadata": {},
   "source": [
    "##### Character Ranges"
   ]
  },
  {
   "cell_type": "code",
   "execution_count": 10,
   "metadata": {},
   "outputs": [
    {
     "name": "stdout",
     "output_type": "stream",
     "text": [
      "a\n",
      "b\n",
      "c\n",
      "d\n",
      "e\n",
      "f\n",
      "g\n",
      "h\n",
      "i\n",
      "j\n",
      "k\n",
      "l\n",
      "m\n",
      "n\n",
      "o\n",
      "p\n",
      "q\n",
      "r\n",
      "s\n",
      "t\n",
      "u\n",
      "v\n",
      "w\n",
      "x\n",
      "y\n",
      "z\n"
     ]
    }
   ],
   "source": [
    "start_char = 'a'\n",
    "end_char = 'z'\n",
    "\n",
    "for char_code in range(ord(start_char), ord(end_char) + 1):\n",
    "    character = chr(char_code)\n",
    "    print(character)\n"
   ]
  },
  {
   "cell_type": "markdown",
   "metadata": {},
   "source": [
    "### Counting Occurences"
   ]
  },
  {
   "cell_type": "markdown",
   "metadata": {},
   "source": [
    "##### {x} - something that occurs {num_of_times}"
   ]
  },
  {
   "cell_type": "code",
   "execution_count": 11,
   "metadata": {},
   "outputs": [
    {
     "name": "stdout",
     "output_type": "stream",
     "text": [
      "The pattern occurs 3 times in the text.\n"
     ]
    }
   ],
   "source": [
    "text = \"x - something that occurs x - something that occurs x - something that occurs\"\n",
    "count = text.count(\"x - something that occurs\")\n",
    "\n",
    "print(f\"The pattern occurs {count} times in the text.\")\n"
   ]
  },
  {
   "cell_type": "markdown",
   "metadata": {},
   "source": [
    "##### {x, x} - something that occurs between x and x times"
   ]
  },
  {
   "cell_type": "code",
   "execution_count": 12,
   "metadata": {},
   "outputs": [
    {
     "name": "stdout",
     "output_type": "stream",
     "text": [
      "Count: 3\n",
      "Matches: ['{1,2}', '{3,4}', '{6,7}']\n"
     ]
    }
   ],
   "source": [
    "import re\n",
    "\n",
    "# Define your pattern and the input string\n",
    "pattern = r'{\\d+,\\d+}'  # This pattern matches \"{x,y}\" where x and y are integers.\n",
    "input_string = \"{1,2} {3,4} {5} {6,7}\"\n",
    "\n",
    "# Use re.findall to find all occurrences of the pattern\n",
    "matches = re.findall(pattern, input_string)\n",
    "\n",
    "# Count the number of matches\n",
    "count = len(matches)\n",
    "\n",
    "# Print the count and the matches\n",
    "print(\"Count:\", count)\n",
    "print(\"Matches:\", matches)\n"
   ]
  },
  {
   "cell_type": "markdown",
   "metadata": {},
   "source": [
    "##### ? - something that occurs 0 or 1 time"
   ]
  },
  {
   "cell_type": "code",
   "execution_count": 13,
   "metadata": {},
   "outputs": [
    {
     "name": "stdout",
     "output_type": "stream",
     "text": [
      "The pattern '\\?' occurs 0 times in the text.\n"
     ]
    }
   ],
   "source": [
    "import re\n",
    "\n",
    "text = \"This is an example of something that occurs 0 or 1 time. It may or may not be present.\"\n",
    "pattern = r\"\\?\"\n",
    "occurrences = len(re.findall(pattern, text))\n",
    "\n",
    "print(f\"The pattern '{pattern}' occurs {occurrences} times in the text.\")\n"
   ]
  },
  {
   "cell_type": "markdown",
   "metadata": {},
   "source": [
    "##### * - something that occurs at least 0 times"
   ]
  },
  {
   "cell_type": "code",
   "execution_count": null,
   "metadata": {},
   "outputs": [],
   "source": []
  },
  {
   "cell_type": "markdown",
   "metadata": {},
   "source": [
    "##### + - something that occurs at least once"
   ]
  },
  {
   "cell_type": "code",
   "execution_count": 14,
   "metadata": {},
   "outputs": [
    {
     "name": "stdout",
     "output_type": "stream",
     "text": [
      "Number of occurrences of 2: 4\n"
     ]
    }
   ],
   "source": [
    "my_list = [1, 2, 3, 2, 4, 2, 5, 6, 2]\n",
    "count = my_list.count(2)\n",
    "print(\"Number of occurrences of 2:\", count)\n"
   ]
  },
  {
   "cell_type": "markdown",
   "metadata": {},
   "source": [
    "##### In-class exercise 1: \n",
    "\n",
    "Use a regular expression to find every number in the given string"
   ]
  },
  {
   "cell_type": "code",
   "execution_count": 15,
   "metadata": {},
   "outputs": [
    {
     "name": "stdout",
     "output_type": "stream",
     "text": [
      ".99\n",
      "\n"
     ]
    }
   ],
   "source": [
    "import re\n",
    "\n",
    "# Sample string\n",
    "text = \"The price of the product is $19.99, and the quantity is 25.\"\n",
    "\n",
    "# Define a regular expression pattern to match numbers\n",
    "pattern = r'\\d+(\\.\\d+)?'\n",
    "\n",
    "# Use re.findall to find all matching numbers in the string\n",
    "numbers = re.findall(pattern, text)\n",
    "\n",
    "# Print the numbers found\n",
    "for number in numbers:\n",
    "    print(number)\n",
    "\n"
   ]
  },
  {
   "cell_type": "markdown",
   "metadata": {},
   "source": [
    "### Escaping Characters"
   ]
  },
  {
   "cell_type": "markdown",
   "metadata": {},
   "source": [
    "##### \\w - look for any Unicode character<br/>\\W - look for anything that isnt a Unicode character\n",
    "\n",
    "[History on Unicode](http://unicode.org/standard/WhatIsUnicode.html)\n",
    "\n",
    "[More on Unicode Characters](https://en.wikipedia.org/wiki/List_of_Unicode_characters)"
   ]
  },
  {
   "cell_type": "code",
   "execution_count": 16,
   "metadata": {},
   "outputs": [
    {
     "name": "stdout",
     "output_type": "stream",
     "text": [
      "['H', 'e', 'l', 'l', 'o', '你', '好', '_', '1', '2', '3']\n"
     ]
    }
   ],
   "source": [
    "import re\n",
    "\n",
    "pattern = r'\\w'  # Matches a Unicode word character\n",
    "text = \"Hello 你好 _123\"\n",
    "\n",
    "# Use re.UNICODE flag to work with Unicode characters\n",
    "matches = re.findall(pattern, text, re.UNICODE)\n",
    "print(matches)  "
   ]
  },
  {
   "cell_type": "markdown",
   "metadata": {},
   "source": [
    "##### \\d - look for any digit 0-9<br/>\\D - look for anything that isnt a digit"
   ]
  },
  {
   "cell_type": "code",
   "execution_count": 18,
   "metadata": {},
   "outputs": [
    {
     "name": "stdout",
     "output_type": "stream",
     "text": [
      "['3', '2']\n",
      "['I', ' ', 'h', 'a', 'v', 'e', ' ', ' ', 'a', 'p', 'p', 'l', 'e', 's', ' ', 'a', 'n', 'd', ' ', ' ', 'b', 'a', 'n', 'a', 'n', 'a', 's', '.']\n"
     ]
    }
   ],
   "source": [
    "import re\n",
    "\n",
    "text = \"I have 3 apples and 2 bananas.\"\n",
    "pattern = r'\\d'  # This pattern will match any single digit.\n",
    "matches = re.findall(pattern, text)\n",
    "\n",
    "print(matches)\n",
    "\n",
    "import re\n",
    "\n",
    "text = \"I have 3 apples and 2 bananas.\"\n",
    "pattern = r'\\D'  # This pattern will match any character that is not a digit.\n",
    "matches = re.findall(pattern, text)\n",
    "\n",
    "print(matches)  "
   ]
  },
  {
   "cell_type": "markdown",
   "metadata": {},
   "source": [
    "##### \\s - look for any white space<br/>\\S - look for anything that isnt whitespace"
   ]
  },
  {
   "cell_type": "code",
   "execution_count": null,
   "metadata": {},
   "outputs": [],
   "source": []
  },
  {
   "cell_type": "markdown",
   "metadata": {},
   "source": [
    "##### \\b - look for boundaries or edges of a word<br/>\\B - look for anything that isnt a boundary"
   ]
  },
  {
   "cell_type": "code",
   "execution_count": 19,
   "metadata": {},
   "outputs": [
    {
     "name": "stdout",
     "output_type": "stream",
     "text": [
      "[' ', ' ', '\\t']\n",
      "['H', 'e', 'l', 'l', 'o', 'W', 'o', 'r', 'l', 'd', 'E', 'x', 'a', 'm', 'p', 'l', 'e']\n"
     ]
    }
   ],
   "source": [
    "import re\n",
    "\n",
    "# Example 1: Using \\s to match whitespace\n",
    "text = \"Hello  World\\tExample\"\n",
    "pattern = r\"\\s\"  # This pattern matches any whitespace character\n",
    "matches = re.findall(pattern, text)\n",
    "print(matches)  \n",
    "# Example 2: Using \\S to match non-whitespace characters\n",
    "pattern = r\"\\S\"  # This pattern matches any character that is not a whitespace character\n",
    "matches = re.findall(pattern, text)\n",
    "print(matches)  "
   ]
  },
  {
   "cell_type": "markdown",
   "metadata": {},
   "source": [
    "### Grouping"
   ]
  },
  {
   "cell_type": "code",
   "execution_count": null,
   "metadata": {},
   "outputs": [],
   "source": []
  },
  {
   "cell_type": "markdown",
   "metadata": {},
   "source": [
    "##### In-class Exercise 2:\n",
    "\n",
    "Write a function using regular expressions to find the domain name in the given email addresses (and return None for the invalid email addresses)<br><b>HINT: Use '|' for either or</b>"
   ]
  },
  {
   "cell_type": "code",
   "execution_count": 20,
   "metadata": {},
   "outputs": [
    {
     "name": "stdout",
     "output_type": "stream",
     "text": [
      "Email: jordanw@codingtemple.orgcom, Domain: codingtemple.orgcom\n",
      "Email: pocohontas1776@gmail.com, Domain: gmail.com\n",
      "Email: helloworld@aol..com, Domain: None\n",
      "Email: yourfavoriteband@g6.org, Domain: None\n",
      "Email: @codingtemple.com, Domain: None\n"
     ]
    }
   ],
   "source": [
    "my_emails = [\"jordanw@codingtemple.orgcom\", \"pocohontas1776@gmail.com\", \"helloworld@aol..com\",\n",
    "             \"yourfavoriteband@g6.org\", \"@codingtemple.com\"]\n",
    "\n",
    "# You can also use the $ at the end of your compile expression -- this stops the search\n",
    "\n",
    "#.com OR .org => com|org\n",
    "\n",
    "#Expected output:\n",
    "#None\n",
    "#pocohontas1776@gmail.com\n",
    "#None\n",
    "#yourfavoriteband@g6.org\n",
    "#None\n",
    "import re\n",
    "\n",
    "def extract_domain(email):\n",
    "    # Define a regular expression pattern to match valid email addresses\n",
    "    pattern = r\"^\\w+@[A-Za-z]+\\.[A-Za-z]+$\"\n",
    "\n",
    "    # Use the re.match function to find a match in the email\n",
    "    match = re.match(pattern, email)\n",
    "\n",
    "    if match:\n",
    "        # Extract and return the domain name (the part after '@')\n",
    "        return email.split('@')[1]\n",
    "    else:\n",
    "        return None\n",
    "\n",
    "my_emails = [\"jordanw@codingtemple.orgcom\", \"pocohontas1776@gmail.com\", \"helloworld@aol..com\",\n",
    "             \"yourfavoriteband@g6.org\", \"@codingtemple.com\"]\n",
    "\n",
    "for email in my_emails:\n",
    "    domain = extract_domain(email)\n",
    "    print(f\"Email: {email}, Domain: {domain}\")\n",
    "\n"
   ]
  },
  {
   "cell_type": "markdown",
   "metadata": {},
   "source": [
    "### Opening a File <br>\n",
    "<p>Python gives us a couple ways to import files, below are the two used most often.</p>"
   ]
  },
  {
   "cell_type": "markdown",
   "metadata": {},
   "source": [
    "##### open()"
   ]
  },
  {
   "cell_type": "code",
   "execution_count": null,
   "metadata": {},
   "outputs": [],
   "source": [
    "open(file, mode='r', buffering=-1, encoding=None, errors=None, newline=None, closefd=True, opener=None) "
   ]
  },
  {
   "cell_type": "markdown",
   "metadata": {},
   "source": [
    "##### with open()"
   ]
  },
  {
   "cell_type": "code",
   "execution_count": 26,
   "metadata": {},
   "outputs": [],
   "source": [
    "with open('output.txt', 'w') as file:\n",
    "    file.write('Hello, World!')\n",
    "\n"
   ]
  },
  {
   "cell_type": "markdown",
   "metadata": {},
   "source": [
    "##### re.match()"
   ]
  },
  {
   "cell_type": "code",
   "execution_count": 27,
   "metadata": {},
   "outputs": [
    {
     "name": "stdout",
     "output_type": "stream",
     "text": [
      "Match found: Hello\n"
     ]
    }
   ],
   "source": [
    "import re\n",
    "\n",
    "pattern = r'Hello'\n",
    "string = 'Hello, World!'\n",
    "result = re.match(pattern, string)\n",
    "\n",
    "if result:\n",
    "    print(\"Match found:\", result.group())\n",
    "else:\n",
    "    print(\"No match found\")\n"
   ]
  },
  {
   "cell_type": "markdown",
   "metadata": {},
   "source": [
    "##### re.search()"
   ]
  },
  {
   "cell_type": "code",
   "execution_count": 28,
   "metadata": {},
   "outputs": [
    {
     "name": "stdout",
     "output_type": "stream",
     "text": [
      "Pattern found at position 24-30: sample\n"
     ]
    }
   ],
   "source": [
    "import re\n",
    "\n",
    "text = \"Hello, World! This is a sample text.\"\n",
    "\n",
    "# Define the pattern to search for\n",
    "pattern = r\"sample\"\n",
    "\n",
    "# Search for the pattern in the text\n",
    "match = re.search(pattern, text)\n",
    "\n",
    "if match:\n",
    "    print(f\"Pattern found at position {match.start()}-{match.end()}: {match.group()}\")\n",
    "else:\n",
    "    print(\"Pattern not found\")\n"
   ]
  },
  {
   "cell_type": "markdown",
   "metadata": {},
   "source": [
    "##### Store the String to a Variable"
   ]
  },
  {
   "cell_type": "code",
   "execution_count": 29,
   "metadata": {},
   "outputs": [
    {
     "name": "stdout",
     "output_type": "stream",
     "text": [
      "Hello, World!\n"
     ]
    }
   ],
   "source": [
    "# Assign a string to a variable\n",
    "my_string = \"Hello, World!\"\n",
    "\n",
    "# You can now use the variable 'my_string' to access the string\n",
    "print(my_string)  "
   ]
  },
  {
   "cell_type": "markdown",
   "metadata": {},
   "source": [
    "### In-Class Exercise #3 <br>\n",
    "<p>Print each persons name and twitter handle, using groups, should look like:</p>\n",
    "<p>==============<br>\n",
    "   Full Name / Twitter<br>\n",
    "   ==============</p>\n",
    "Derek Hawkins / @derekhawkins\n",
    "\n",
    " Erik Sven-Osterberg / @sverik\n",
    "\n",
    " Ryan Butz / @ryanbutz\n",
    "\n",
    " Example Exampleson / @example\n",
    "\n",
    " Ripal Pael / @ripalp\n",
    "\n",
    " Darth Vader / @darthvader"
   ]
  },
  {
   "cell_type": "code",
   "execution_count": 30,
   "metadata": {
    "scrolled": true
   },
   "outputs": [
    {
     "name": "stdout",
     "output_type": "stream",
     "text": [
      "==============\n",
      "Full Name / Twitter\n",
      "==============\n",
      "Derek Hawkins / @derekhawkins\n",
      "Erik Sven-Osterberg / @sverik\n",
      "Ryan Butz / @ryanbutz\n",
      "Example Exampleson / @example\n",
      "Ripal Pael / @ripalp\n",
      "Darth Vader / @darthvader\n"
     ]
    }
   ],
   "source": [
    "# List of people with their names and Twitter handles\n",
    "people = [\n",
    "    {\"Full Name\": \"Derek Hawkins\", \"Twitter\": \"@derekhawkins\"},\n",
    "    {\"Full Name\": \"Erik Sven-Osterberg\", \"Twitter\": \"@sverik\"},\n",
    "    {\"Full Name\": \"Ryan Butz\", \"Twitter\": \"@ryanbutz\"},\n",
    "    {\"Full Name\": \"Example Exampleson\", \"Twitter\": \"@example\"},\n",
    "    {\"Full Name\": \"Ripal Pael\", \"Twitter\": \"@ripalp\"},\n",
    "    {\"Full Name\": \"Darth Vader\", \"Twitter\": \"@darthvader\"}\n",
    "]\n",
    "\n",
    "# Print the information in the specified format\n",
    "print(\"==============\")\n",
    "print(\"Full Name / Twitter\")\n",
    "print(\"==============\")\n",
    "\n",
    "for person in people:\n",
    "    print(f\"{person['Full Name']} / {person['Twitter']}\")\n",
    "\n"
   ]
  },
  {
   "cell_type": "markdown",
   "metadata": {},
   "source": [
    "### Regex project\n",
    "\n",
    "Use python to read the file regex_test.txt and print the last name on each line using regular expressions and groups (return None for names with no first and last name, or names that aren't properly capitalized)\n",
    "##### Hint: use with open() and readlines()"
   ]
  },
  {
   "cell_type": "code",
   "execution_count": 75,
   "metadata": {},
   "outputs": [
    {
     "name": "stdout",
     "output_type": "stream",
     "text": [
      "Abraham Lincoln\n",
      "Andrew P\n",
      "Garfield\n",
      "Connor\n",
      "Milliken\n",
      "Jordan\n",
      "Alexander Williams\n",
      "None\n",
      "None\n"
     ]
    }
   ],
   "source": [
    "import re\n",
    "\n",
    "# Read the contents of the file\n",
    "file_path = 'regex_test.txt'\n",
    "with open(file_path, 'r') as file:\n",
    "    content = file.read()\n",
    "\n",
    "# Extract names using regular expressions\n",
    "names = re.findall(r\"[A-Z][a-z]*\\s[A-Z][a-zA-Z]*\", content)\n",
    "\n",
    "# Print the extracted names\n",
    "for name in names:\n",
    "    print(name)\n",
    "\n"
   ]
  },
  {
   "cell_type": "code",
   "execution_count": 87,
   "metadata": {},
   "outputs": [
    {
     "name": "stdout",
     "output_type": "stream",
     "text": [
      "Lincoln\n",
      "None\n",
      "None\n",
      "None\n",
      "Williams\n",
      "None\n"
     ]
    }
   ],
   "source": [
    "import re\n",
    "\n",
    "# Define a regular expression pattern to match names with proper capitalization\n",
    "name_pattern = r'^([A-Z][a-z]+) ([A-Z][a-z]+)$'\n",
    "\n",
    "[\n",
    "\"Abraham Lincoln\",\n",
    "\"Andrew P Garfield\",\n",
    "\"Connor Milliken\",\n",
    "\"Jordan Alexander Williams\",\n",
    "\"Madonna\"\n",
    "]\n",
    "for name in names:\n",
    "    match = re.match(name_pattern, name)\n",
    "    if match:\n",
    "        last_name = match.group(2)\n",
    "        print(last_name)\n",
    "    else:\n",
    "        print(None)\n",
    "\n"
   ]
  },
  {
   "cell_type": "code",
   "execution_count": null,
   "metadata": {},
   "outputs": [],
   "source": []
  },
  {
   "cell_type": "code",
   "execution_count": null,
   "metadata": {},
   "outputs": [],
   "source": []
  }
 ],
 "metadata": {
  "kernelspec": {
   "display_name": "Python 3 (ipykernel)",
   "language": "python",
   "name": "python3"
  },
  "language_info": {
   "codemirror_mode": {
    "name": "ipython",
    "version": 3
   },
   "file_extension": ".py",
   "mimetype": "text/x-python",
   "name": "python",
   "nbconvert_exporter": "python",
   "pygments_lexer": "ipython3",
   "version": "3.11.5"
  }
 },
 "nbformat": 4,
 "nbformat_minor": 2
}
